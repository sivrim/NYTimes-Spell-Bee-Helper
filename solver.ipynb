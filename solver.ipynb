{
 "cells": [
  {
   "cell_type": "code",
   "execution_count": 1,
   "metadata": {},
   "outputs": [],
   "source": [
    "from nltk.corpus import words"
   ]
  },
  {
   "cell_type": "code",
   "execution_count": 71,
   "metadata": {},
   "outputs": [
    {
     "name": "stdout",
     "output_type": "stream",
     "text": [
      "['A', 'a', 'aa', 'aal', 'aalii', 'aam', 'Aani', 'aardvark', 'aardwolf', 'Aaron']\n"
     ]
    }
   ],
   "source": [
    "all_words = words.words()\n",
    "print(all_words[:10])"
   ]
  },
  {
   "cell_type": "markdown",
   "metadata": {},
   "source": [
    "Build a dictionary, where keys are the sorted, unique letters in words and value is a list of all words that can be built using those letters. \n",
    "\n",
    "At the time of search, build keys with the given letters, of length 1 to 7, always including central letter.    \n",
    "\n",
    "For each word\n",
    "\n",
    "\n",
    "    If the word length is less than 4, ignore \n",
    "    If the word != word.lower(), ignore\n",
    "    Get the sorted set of letters in the word\n",
    "        If the set length is more than 7, ignore\n",
    "\n",
    "Add to the dictionary.    "
   ]
  },
  {
   "cell_type": "code",
   "execution_count": 104,
   "metadata": {},
   "outputs": [
    {
     "name": "stdout",
     "output_type": "stream",
     "text": [
      "chutney cehntuy\n"
     ]
    }
   ],
   "source": [
    "test_words = ['test', 'stet']\n",
    "lookup = {}\n",
    "for word in all_words:\n",
    "#for word in test_words:\n",
    "    if len(word) < 4 or word != word.lower():\n",
    "        continue\n",
    "    letters = ''.join(sorted(set(word)))\n",
    "    if word == 'chutney':\n",
    "        print('chutney', letters)\n",
    "\n",
    "    if(len(letters)) > 7:\n",
    "        continue\n",
    "    if letters in lookup:\n",
    "        words_with_letters = lookup[letters]\n",
    "        words_with_letters.append(word)\n",
    "    else:\n",
    "        lookup[letters] = [word]"
   ]
  },
  {
   "cell_type": "code",
   "execution_count": 99,
   "metadata": {},
   "outputs": [
    {
     "name": "stdout",
     "output_type": "stream",
     "text": [
      "1.250091552734375\n"
     ]
    },
    {
     "data": {
      "text/plain": [
       "41867"
      ]
     },
     "execution_count": 99,
     "metadata": {},
     "output_type": "execute_result"
    }
   ],
   "source": [
    "import sys\n",
    "print(sys.getsizeof(lookup) /(1024 * 1024))\n",
    "len(lookup)"
   ]
  },
  {
   "cell_type": "code",
   "execution_count": 110,
   "metadata": {},
   "outputs": [],
   "source": [
    "import itertools\n",
    "def possible_words(search_letters, central_letter):\n",
    "    search_letters = sorted(search_letters)\n",
    "    search_keys = []\n",
    "    for L in range(1, len(search_letters) + 1):\n",
    "        for subset in itertools.combinations(search_letters, L):\n",
    "            search_keys.append(''.join(sorted(central_letter + ''.join(subset))))\n",
    "\n",
    "    final_list = []\n",
    "    for search_key in search_keys:\n",
    "        if(search_key in lookup):\n",
    "            final_list.extend(lookup[search_key])\n",
    "            \n",
    "    return final_list"
   ]
  },
  {
   "cell_type": "code",
   "execution_count": 112,
   "metadata": {},
   "outputs": [
    {
     "name": "stdout",
     "output_type": "stream",
     "text": [
      "['teet', 'tete', 'eyey', 'chee', 'eche', 'hech', 'teeth', 'teethe', 'teth', 'thee', 'theet', 'eheu', 'entente', 'neet', 'nete', 'teen', 'teenet', 'tenent', 'tenet', 'tenne', 'tent', 'eyen', 'eyne', 'tute', 'tutee', 'teety', 'tyee', 'hence', 'cheet', 'cheth', 'etch', 'hecte', 'tche', 'tech', 'tetch', 'thetch', 'cent', 'cetene', 'ctene', 'ectene', 'cute', 'ethene', 'hent', 'neth', 'tenth', 'then', 'then', 'henny', 'hyne', 'teethy', 'they', 'yeth', 'tune', 'untent', 'untune', 'netty', 'teenty', 'teeny', 'tenty', 'uneye', 'tench', 'thence', 'eneuch', 'eunuch', 'huchen', 'cheyney', 'chute', 'hutchet', 'chetty', 'techy', 'tetchy', 'cunette', 'cunye', 'unneth', 'unnethe', 'ethyne', 'untenty', 'hunchet', 'chutney']\n"
     ]
    }
   ],
   "source": [
    "print(possible_words('hyntcu', 'e'))"
   ]
  }
 ],
 "metadata": {
  "kernelspec": {
   "display_name": "Python 3",
   "language": "python",
   "name": "python3"
  },
  "language_info": {
   "codemirror_mode": {
    "name": "ipython",
    "version": 3
   },
   "file_extension": ".py",
   "mimetype": "text/x-python",
   "name": "python",
   "nbconvert_exporter": "python",
   "pygments_lexer": "ipython3",
   "version": "3.7.6"
  }
 },
 "nbformat": 4,
 "nbformat_minor": 4
}
